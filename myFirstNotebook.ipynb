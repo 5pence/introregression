{
 "cells": [
  {
   "cell_type": "code",
   "execution_count": 10,
   "id": "96cef849",
   "metadata": {},
   "outputs": [
    {
     "name": "stdout",
     "output_type": "stream",
     "text": [
      "[19, 'female', 27.9, 0, True, 'southwest', 16884.924]\n"
     ]
    }
   ],
   "source": [
    "import numpy as np\n",
    "\n",
    "my_list = [19,'female',27.9,0,True,'southwest',16884.924]\n",
    "print(my_list)\n",
    "\n",
    "\n"
   ]
  },
  {
   "cell_type": "code",
   "execution_count": 12,
   "id": "cb85734d",
   "metadata": {},
   "outputs": [
    {
     "name": "stdout",
     "output_type": "stream",
     "text": [
      "* The index 0 is:  19, and its data type is <class 'int'>\n",
      "* The index 1 is:  female, and its data type is <class 'str'>\n",
      "* The index 1 is:  27.9, and its data type is <class 'float'>\n",
      "* The index 1 is:  0, and its data type is <class 'int'>\n",
      "* The index 1 is:  True, and its data type is <class 'bool'>\n",
      "* The index 1 is:  southwest, and its data type is <class 'str'>\n",
      "* The index 1 is:  16884.924, and its data type is <class 'float'>\n"
     ]
    }
   ],
   "source": [
    "print(f\"* The index 0 is:  {my_list[0]}, and its data type is {type(my_list[0])}\")\n",
    "print(f\"* The index 1 is:  {my_list[1]}, and its data type is {type(my_list[1])}\")\n",
    "print(f\"* The index 1 is:  {my_list[2]}, and its data type is {type(my_list[2])}\")\n",
    "print(f\"* The index 1 is:  {my_list[3]}, and its data type is {type(my_list[3])}\")\n",
    "print(f\"* The index 1 is:  {my_list[4]}, and its data type is {type(my_list[4])}\")\n",
    "print(f\"* The index 1 is:  {my_list[5]}, and its data type is {type(my_list[5])}\")\n",
    "print(f\"* The index 1 is:  {my_list[6]}, and its data type is {type(my_list[6])}\")"
   ]
  },
  {
   "cell_type": "code",
   "execution_count": 15,
   "id": "4afd877c",
   "metadata": {},
   "outputs": [
    {
     "data": {
      "text/plain": [
       "dtype('O')"
      ]
     },
     "execution_count": 15,
     "metadata": {},
     "output_type": "execute_result"
    }
   ],
   "source": [
    "arr = np.array(my_list, dtype=object)\n",
    "arr.dtype"
   ]
  },
  {
   "cell_type": "code",
   "execution_count": 16,
   "id": "a15635fc",
   "metadata": {},
   "outputs": [
    {
     "data": {
      "text/plain": [
       "[8, 8.5]"
      ]
     },
     "execution_count": 16,
     "metadata": {},
     "output_type": "execute_result"
    }
   ],
   "source": [
    "my_cars = [8, 8.5]\n",
    "my_cars"
   ]
  },
  {
   "cell_type": "code",
   "execution_count": 20,
   "id": "5e31b847",
   "metadata": {},
   "outputs": [
    {
     "data": {
      "text/plain": [
       "dtype('float64')"
      ]
     },
     "execution_count": 20,
     "metadata": {},
     "output_type": "execute_result"
    }
   ],
   "source": [
    "arr = np.array(my_cars)\n",
    "arr.dtype"
   ]
  },
  {
   "cell_type": "code",
   "execution_count": 21,
   "id": "c8b3b9cf",
   "metadata": {},
   "outputs": [
    {
     "data": {
      "text/plain": [
       "[[536365, 17850, 6], [536366, 17850, 6], [536367, 13047, 32]]"
      ]
     },
     "execution_count": 21,
     "metadata": {},
     "output_type": "execute_result"
    }
   ],
   "source": [
    "my_2d = [[536365,  17850,  6], [536366,  17850,  6], [536367, 13047, 32]]\n",
    "my_2d"
   ]
  },
  {
   "cell_type": "code",
   "execution_count": 22,
   "id": "ee08e6ab",
   "metadata": {},
   "outputs": [
    {
     "data": {
      "text/plain": [
       "array([[536365,  17850,      6],\n",
       "       [536366,  17850,      6],\n",
       "       [536367,  13047,     32]])"
      ]
     },
     "execution_count": 22,
     "metadata": {},
     "output_type": "execute_result"
    }
   ],
   "source": [
    "arr = np.array(my_2d)\n",
    "arr"
   ]
  }
 ],
 "metadata": {
  "kernelspec": {
   "display_name": "base",
   "language": "python",
   "name": "python3"
  },
  "language_info": {
   "codemirror_mode": {
    "name": "ipython",
    "version": 3
   },
   "file_extension": ".py",
   "mimetype": "text/x-python",
   "name": "python",
   "nbconvert_exporter": "python",
   "pygments_lexer": "ipython3",
   "version": "3.12.7"
  }
 },
 "nbformat": 4,
 "nbformat_minor": 5
}
